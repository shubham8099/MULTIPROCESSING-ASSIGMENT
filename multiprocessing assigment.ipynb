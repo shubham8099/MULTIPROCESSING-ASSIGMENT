{
 "cells": [
  {
   "cell_type": "raw",
   "id": "01d6f393-850f-4cf6-ab2d-d8cdad6287d3",
   "metadata": {},
   "source": [
    "Q1 - what is multiprocessing in python  ? why is it usefull ?"
   ]
  },
  {
   "cell_type": "raw",
   "id": "9a8edfe7-b088-4c8b-bafa-dd283736db37",
   "metadata": {},
   "source": [
    "^_^  Multiprocessing is the module of the python standard library and provide a way to create and manage\n",
    "     multiprocessing in which they allows us to distribute computational task across multiple CPU cores .\n",
    "     \n",
    "     \n",
    "@_@  multiprocessing is usefull due to many several reason , espicially when dealing with CPU-bound task \n",
    "     and improveing the perfromance of our program. \n",
    "     \n",
    "Here are some key benifits of multiprocessing :- \n",
    "\n",
    "  * Parallelism\n",
    "  * Improved Performance\n",
    "  * Responsiveness\n",
    "  * Utilizing Available Resources\n",
    "  * Task Parallelism\n",
    "  * Inter-process Communication (IPC)"
   ]
  },
  {
   "cell_type": "raw",
   "id": "e070745d-12de-4f0a-9d6b-38f4eb18c2e2",
   "metadata": {},
   "source": [
    "Q2 - what are the differnce between Multiprocessing and multithreading ?"
   ]
  },
  {
   "cell_type": "raw",
   "id": "cf1288c0-2fe1-4bbf-a2ef-ec3f01713ad1",
   "metadata": {},
   "source": [
    "+_+ Multithreading & Multiprocessing both are the techniques used for achieving concurrency in a program \n",
    "    they allowing multiple task to excute concurrently.\n",
    "    \n",
    "    \n",
    "Let us Explaing the both cases with comparison of their points :- \n",
    "\n",
    "* Defination :- \n",
    "\n",
    "^_^ multithreading: Multithreading is a concurrency model in which multiple thread with a single process share \n",
    "    the same memory and spaces and can excute the different part of program concurrently . thread are lightweight \n",
    "    and they can share same memory makeing it easy for them to communicate and share the data .\n",
    "\n",
    "^_^ multiprocessing : Multiprocessing invole in the execution of multiple process, each with its own memory sapce\n",
    "                      independently. These process run as single instance and do not share memory directly ,\n",
    "                      requiring explicit inter-process communication(IPC) mechanisms to share data .\n",
    " \n",
    "* Isolation :- \n",
    "\n",
    "^_^ multithreading : Threads within the same process share the memory, which means they can easily acess and \n",
    "                     manipulate the same data . while this allow efficient for communication, it aslo introdues \n",
    "                     the possibility of data races and concurrent acess issue .\n",
    "                     \n",
    "                     \n",
    "^_^ multiprocessing : Process run in the seprate memory,which provide higher degree of isolation. Each process has own\n",
    "                      its memory reducing the risk of Data Conflicts However IPC is needed for communication and share\n",
    "                      data .\n",
    "                      \n",
    "    \n",
    "* Error Handling :- \n",
    "\n",
    "^_^ multithreading : Error in the one thread can affect the another thread in the same process , makeing error \n",
    "                     handling and Debugging more complex .\n",
    "                     \n",
    "^_^ multiprocessing : Error im one process generally do not affect the another process, providing a degree of a\n",
    "                      fault tolerance . Debugging and error can be more straightforwad. "
   ]
  },
  {
   "cell_type": "raw",
   "id": "ab3d16c1-f3aa-4adf-87b0-448588bde050",
   "metadata": {},
   "source": [
    "Q3 write a python code to create a process using the multithreading module . "
   ]
  },
  {
   "cell_type": "code",
   "execution_count": 1,
   "id": "14c7d260-000f-482b-b9a4-0e1a171c50d0",
   "metadata": {},
   "outputs": [
    {
     "name": "stdout",
     "output_type": "stream",
     "text": [
      "thread is running\n",
      "main thread continues\n"
     ]
    }
   ],
   "source": [
    "import threading\n",
    "\n",
    "def worker_function():\n",
    "    print(\"thread is running\")\n",
    "    \n",
    "thread = threading.Thread(target=worker_function)    \n",
    "thread.start()\n",
    "thread.join()\n",
    "print(\"main thread continues\")"
   ]
  },
  {
   "cell_type": "raw",
   "id": "7b96574e-a425-47ca-a7ec-0dca2259af01",
   "metadata": {},
   "source": [
    "Q4. what is multiprocessing pool in the python ? why it is used ?"
   ]
  },
  {
   "cell_type": "raw",
   "id": "5d6299b7-cc95-4422-ad86-cec1d2e813a1",
   "metadata": {
    "tags": []
   },
   "source": [
    "Answer = The multiprocessing pool is the part of the multiprocessing module and is used to Create a pool of worker process\n",
    "         that can execute task in parallel . It provide high level interface for distributing task across the multiple \n",
    "         processes, making it easier to harness the power of multi-Core CPUs                  \n",
    "         \n",
    "Let us we taking an Example of mutlprocessing Pool :-\n"
   ]
  },
  {
   "cell_type": "code",
   "execution_count": 12,
   "id": "7832fe98-4f56-4a15-b934-d409dd32f178",
   "metadata": {},
   "outputs": [
    {
     "name": "stdout",
     "output_type": "stream",
     "text": [
      "squared numbers [1, 4, 9, 16, 25]\n"
     ]
    }
   ],
   "source": [
    "from multiprocessing import Pool \n",
    "\n",
    "def square(x):\n",
    "    return x * x\n",
    "if __name__ == \"__main__\" :\n",
    "    pool = Pool()\n",
    "    \n",
    "    numbers = [1,2,3,4,5]\n",
    "    \n",
    "    results = pool.map(square , numbers)\n",
    "    pool.close()\n",
    "    pool.join()\n",
    "    print(\"squared numbers\" , results)\n",
    "    "
   ]
  },
  {
   "cell_type": "raw",
   "id": "5935e767-a50e-476e-8694-4eb71de829ca",
   "metadata": {},
   "source": [
    "* multiprocessing pool is used in many various ways :-\n",
    "\n",
    "^_^ Imporved Performance :- when we have CPU-bound task that can divided into smaller, independent unit of work             \n",
    "                            a multiprocessing pool can significantly improve the perfromance of our program .\n",
    "                            it allows multiple processes to work in parallel, taking the advantage of available \n",
    "                            CPU cores . this can lead to faster execution of our code .\n",
    "\n",
    "^_^ parallelism :- Multiprocessing pools enable us  to execute multiple tasks concurrently, which is particularly useful for computationally intensive operations. Instead of executing tasks sequentially , we can distribute them among multiple processes, effectively reducing the time it takes to complete those tasks.\n",
    "                                \n",
    "                                \n",
    "^_^ Utilizing Multiple CPU Cores :- Modern computers often have multi-core processors. Without multiprocessing, Python programs typically use only a single core. By using a multiprocessing pool, you can distribute the work across multiple cores, fully utilizing the available hardware resources. \n",
    "\n",
    "^_^ Responsive Applications :- In certain cases, using a multiprocessing pool can help prevent our application from becoming unresponsive during CPU-intensive tasks. By offloading heavy computations to separate processes, our main program can remain responsive and continue handling user interactions.\n",
    "\n",
    "^_^ Task Parallelism :-  Multiprocessing pools are well-suited for task parallelism, where multiple tasks execute in parallel without the need for complex thread synchronization. This can simplify concurrent programming compared to using threads."
   ]
  },
  {
   "cell_type": "raw",
   "id": "789d25fe-7002-44db-bbb6-ce1521e20da0",
   "metadata": {},
   "source": [
    "Q5 . How we can create a pool of worker processes in python using the multiprocessimg module ?"
   ]
  },
  {
   "cell_type": "code",
   "execution_count": 15,
   "id": "84117115-7fdf-4a17-bad7-3252ae0d3139",
   "metadata": {},
   "outputs": [
    {
     "name": "stdout",
     "output_type": "stream",
     "text": [
      "Square Numbers [1, 4, 9, 16, 25]\n"
     ]
    }
   ],
   "source": [
    "# Let us taking an example of pool worker +_+\n",
    "import multiprocessing \n",
    "from multiprocessing import Pool \n",
    "\n",
    "def square(x):\n",
    "    return x * x\n",
    "if __name__ == \"__main__\" :\n",
    "    pool = Pool()\n",
    "    numbers = [1,2,3,4,5]\n",
    "    \n",
    "    results = pool.map(square , numbers)\n",
    "    pool.close()\n",
    "    pool.join()\n",
    "    print(\"Square Numbers\",results)\n",
    "    \n"
   ]
  },
  {
   "cell_type": "raw",
   "id": "d6876686-8a70-498b-9f0f-8d701cf65da9",
   "metadata": {},
   "source": [
    "Q6 Write a python program to create 4 processes , each process should print a different number using the \n",
    "   multiprocessing module in python . "
   ]
  },
  {
   "cell_type": "code",
   "execution_count": 19,
   "id": "72a3b7d3-3fa4-4d86-b4a9-aded101eb45e",
   "metadata": {},
   "outputs": [
    {
     "name": "stdout",
     "output_type": "stream",
     "text": [
      "cube: 1000\n",
      "square: 100\n",
      "add: 10\n",
      "substract:0\n",
      "Done!\n"
     ]
    }
   ],
   "source": [
    "import multiprocessing \n",
    "\n",
    "def print_cube(num):\n",
    "    print(\"cube: {}\".format(num * num * num))\n",
    "    \n",
    "def print_square(num):\n",
    "    print(\"square: {}\".format(num * num))\n",
    "    \n",
    "def print_add(num):\n",
    "    print(\"add: {}\".format(num + num))\n",
    "    \n",
    "def print_substract(num):\n",
    "    print(\"substract:{}\".format(num - num))\n",
    " \n",
    "if __name__ == \"__main__\":\n",
    "        p1 = multiprocessing.Process(target=print_cube , args=(10,))\n",
    "        p2 = multiprocessing.Process(target=print_square , args=(10,))\n",
    "        p3 = multiprocessing.Process(target=print_add , args=(5,))\n",
    "        p4 = multiprocessing.Process(target=print_substract , args=(6,))\n",
    "        \n",
    "        p1.start()\n",
    "        p2.start()\n",
    "        p3.start()\n",
    "        p4.start()\n",
    "        \n",
    "        p1.join()\n",
    "        p2.join()\n",
    "        p3.join()\n",
    "        p4.join()\n",
    "        \n",
    "        print(\"Done!\")\n",
    "        \n",
    "  # from the above example shows that how multiprocessing work using a 4 process .       "
   ]
  },
  {
   "cell_type": "code",
   "execution_count": null,
   "id": "4eeda8bf-2ae4-4f86-815e-0b6a3e7fc0f4",
   "metadata": {},
   "outputs": [],
   "source": []
  }
 ],
 "metadata": {
  "kernelspec": {
   "display_name": "Python 3 (ipykernel)",
   "language": "python",
   "name": "python3"
  },
  "language_info": {
   "codemirror_mode": {
    "name": "ipython",
    "version": 3
   },
   "file_extension": ".py",
   "mimetype": "text/x-python",
   "name": "python",
   "nbconvert_exporter": "python",
   "pygments_lexer": "ipython3",
   "version": "3.10.8"
  }
 },
 "nbformat": 4,
 "nbformat_minor": 5
}
